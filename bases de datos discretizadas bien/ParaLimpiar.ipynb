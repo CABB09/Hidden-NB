{
 "cells": [
  {
   "cell_type": "code",
   "execution_count": 25,
   "metadata": {},
   "outputs": [
    {
     "name": "stdout",
     "output_type": "stream",
     "text": [
      "Archivo limpiado y guardado correctamente.\n"
     ]
    }
   ],
   "source": [
    "import pandas as pd\n",
    "\n",
    "# Cargar el archivo generado por Weka\n",
    "data = pd.read_csv(\"C:\\\\Users\\\\Carlo\\\\Desktop\\\\IA\\\\tercer semestre\\\\teoria de la info\\\\bases de datos discretizadas bien\\\\zoo.csv\")\n",
    "\n",
    "# Eliminar la última columna (variable objetivo)\n",
    "class_column = data.columns[-1]  # Identificar la última columna\n",
    "data_features = data.drop(columns=[class_column])  # Crear un DataFrame sin la columna de clase\n",
    "\n",
    "# Identificar columnas que contienen valores de tipo string\n",
    "discretized_columns = [col for col in data_features.columns if data_features[col].dtype == 'object']\n",
    "\n",
    "# Limpiar etiquetas en las columnas discretizadas\n",
    "for col in discretized_columns:\n",
    "    # Sólo procesar si las celdas contienen el patrón 'B'\n",
    "    if data_features[col].str.contains('B').any():\n",
    "        # Extraer números, y manejar los NaN reemplazándolos con -1 (o cualquier valor deseado)\n",
    "        data_features[col] = data_features[col].str.extract(r'B(\\d+)').fillna(-1).astype(int)\n",
    "\n",
    "# Volver a unir la columna de clase (si es necesario)\n",
    "data_cleaned = pd.concat([data_features, data[class_column]], axis=1)\n",
    "\n",
    "# Guardar el archivo limpio\n",
    "data_cleaned.to_csv(\"C:\\\\Users\\\\Carlo\\\\Desktop\\\\IA\\\\tercer semestre\\\\teoria de la info\\\\bases de datos discretizadas bien\\\\zoo_cleaned.csv\", index=False)\n",
    "\n",
    "print(\"Archivo limpiado y guardado correctamente.\")"
   ]
  },
  {
   "cell_type": "code",
   "execution_count": null,
   "metadata": {},
   "outputs": [],
   "source": []
  }
 ],
 "metadata": {
  "kernelspec": {
   "display_name": "Python 3",
   "language": "python",
   "name": "python3"
  },
  "language_info": {
   "codemirror_mode": {
    "name": "ipython",
    "version": 3
   },
   "file_extension": ".py",
   "mimetype": "text/x-python",
   "name": "python",
   "nbconvert_exporter": "python",
   "pygments_lexer": "ipython3",
   "version": "3.12.1"
  }
 },
 "nbformat": 4,
 "nbformat_minor": 2
}
