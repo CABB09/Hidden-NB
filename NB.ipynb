{
 "cells": [
  {
   "cell_type": "code",
   "execution_count": 1,
   "metadata": {},
   "outputs": [],
   "source": [
    "import numpy as np\n",
    "import pandas as pd\n",
    "\n",
    "def naive_bayes_train(X, y):\n",
    "    \"\"\"Entrena el modelo Naive Bayes calculando probabilidades previas y condicionales.\"\"\"\n",
    "    # Calcular las probabilidades previas de cada clase\n",
    "    labels, label_counts = np.unique(y, return_counts=True)\n",
    "    prior_probs = label_counts / len(y)\n",
    "    priors = dict(zip(labels, prior_probs))  # Se mapea cada etiqueta con su probabilidad previa\n",
    "\n",
    "    # Calcular las probabilidades condicionales para cada atributo dado cada clase\n",
    "    cond_probs = {}\n",
    "    for label in labels:\n",
    "        subset = X[y == label]  # Se filtra los datos para la clase actual\n",
    "        features_probs = {}\n",
    "        for col in X.columns:\n",
    "            levels, counts = np.unique(subset[col], return_counts=True)\n",
    "            probs = counts / counts.sum()  # Probabilidad de cada valor del atributo dentro de la clase\n",
    "            features_probs[col] = dict(zip(levels, probs))\n",
    "        cond_probs[label] = features_probs  # Se mapea la clase con las probabilidades de sus atributos\n",
    "\n",
    "    return priors, cond_probs\n",
    "\n",
    "def naive_bayes_predict(X, priors, cond_probs):\n",
    "    \"\"\"Predice las clases para cada instancia usando el modelo Naive Bayes.\"\"\"\n",
    "    predictions = []\n",
    "    probabilities = []  # Para almacenar las probabilidades de clase\n",
    "    for _, row in X.iterrows():\n",
    "        label_probs = {}\n",
    "        for label, features_probs in cond_probs.items():\n",
    "            total_prob = np.log(priors[label])\n",
    "            for feature, value in row.items():\n",
    "                feature_probs = features_probs.get(feature, {})\n",
    "                prob = feature_probs.get(value, 1e-6)  # Laplace smoothing para valores no vistos\n",
    "                total_prob += np.log(prob)\n",
    "            label_probs[label] = np.exp(total_prob)  # Convertir de logaritmo a probabilidad\n",
    "        total_sum = sum(label_probs.values())\n",
    "        normalized_probs = {k: v / total_sum for k, v in label_probs.items()}  # Normalizar probabilidades\n",
    "        probabilities.append(normalized_probs)\n",
    "        predictions.append(max(normalized_probs, key=normalized_probs.get))\n",
    "    return predictions, probabilities\n"
   ]
  },
  {
   "cell_type": "code",
   "execution_count": 2,
   "metadata": {},
   "outputs": [],
   "source": [
    "\n",
    "def calculate_cll(y_true, probabilities, all_classes):\n",
    "    \"\"\"Calcula el Log-Verosimilitud Condicional (CLL).\"\"\"\n",
    "    cll = 0\n",
    "    for true_label, prob_dict in zip(y_true, probabilities):\n",
    "        cll += np.log(prob_dict.get(true_label, 1e-6))  # Sumar log(probabilidad de la clase verdadera)\n",
    "    return cll / len(y_true)  # Promedio por instancia\n",
    "\n",
    "def simple_cross_validate(data, target, k=10):\n",
    "    \"\"\"Realiza validación cruzada simple y evalúa Accuracy y CLL.\"\"\"\n",
    "    X = data.drop(columns=[target])\n",
    "    y = data[target]\n",
    "    \n",
    "    folds = np.array_split(data.sample(frac=1, random_state=42), k)  # Dividir datos aleatoriamente en k partes\n",
    "    accuracies = []\n",
    "    clls = []\n",
    "    all_classes = np.unique(y)  # Todas las clases posibles\n",
    "\n",
    "    for i in range(k):\n",
    "        train = pd.concat([folds[j] for j in range(k) if j != i])\n",
    "        test = folds[i]\n",
    "        \n",
    "        priors, cond_probs = naive_bayes_train(train.drop(target, axis=1), train[target])  # Entrenar modelo\n",
    "        predictions, probabilities = naive_bayes_predict(test.drop(target, axis=1), priors, cond_probs)\n",
    "        \n",
    "        # Calcular métricas\n",
    "        accuracy = np.mean(predictions == test[target])\n",
    "        cll = calculate_cll(test[target].values, probabilities, all_classes)\n",
    "        \n",
    "        accuracies.append(accuracy)\n",
    "        clls.append(cll)\n",
    "\n",
    "    return {\n",
    "        \"mean_accuracy\": np.mean(accuracies),\n",
    "        \"std_accuracy\": np.std(accuracies),\n",
    "        \"mean_cll\": np.mean(clls),\n",
    "        \"std_cll\": np.std(clls)\n",
    "    }"
   ]
  },
  {
   "cell_type": "code",
   "execution_count": 3,
   "metadata": {},
   "outputs": [
    {
     "name": "stderr",
     "output_type": "stream",
     "text": [
      "c:\\Users\\Carlo\\AppData\\Local\\Programs\\Python\\Python312\\Lib\\site-packages\\numpy\\core\\fromnumeric.py:59: FutureWarning: 'DataFrame.swapaxes' is deprecated and will be removed in a future version. Please use 'DataFrame.transpose' instead.\n",
      "  return bound(*args, **kwds)\n"
     ]
    },
    {
     "name": "stdout",
     "output_type": "stream",
     "text": [
      "Simple CV - Mean Accuracy: 0.926726 ± 0.018774\n",
      "Simple CV - Mean CLL: -0.399293 ± 0.115535\n"
     ]
    }
   ],
   "source": [
    "# Leer datos y seleccionar última columna como variable objetivo\n",
    "data = pd.read_csv(\"C:\\\\Users\\\\Carlo\\\\Desktop\\\\IA\\\\tercer semestre\\\\teoria de la info\\\\bases de datos discretizadas bien\\\\soybean_dis.csv\")\n",
    "class_column = data.columns[-1]  # Identificar la última columna como la variable objetivo\n",
    "\n",
    "# Realizar validación cruzada con la última columna automáticamente seleccionada\n",
    "results = simple_cross_validate(data, target=class_column)\n",
    "\n",
    "# Mostrar resultados\n",
    "print(f\"Simple CV - Mean Accuracy: {results['mean_accuracy']:.6f} ± {results['std_accuracy']:.6f}\")\n",
    "print(f\"Simple CV - Mean CLL: {results['mean_cll']:.6f} ± {results['std_cll']:.6f}\")"
   ]
  }
 ],
 "metadata": {
  "kernelspec": {
   "display_name": "Python 3",
   "language": "python",
   "name": "python3"
  },
  "language_info": {
   "codemirror_mode": {
    "name": "ipython",
    "version": 3
   },
   "file_extension": ".py",
   "mimetype": "text/x-python",
   "name": "python",
   "nbconvert_exporter": "python",
   "pygments_lexer": "ipython3",
   "version": "3.12.1"
  }
 },
 "nbformat": 4,
 "nbformat_minor": 2
}
